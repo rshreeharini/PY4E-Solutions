{
 "cells": [
  {
   "cell_type": "markdown",
   "metadata": {},
   "source": [
    "# <center> My Solutions for Practice Questions - PY4E Chapters 1 - 6 </center>"
   ]
  },
  {
   "cell_type": "markdown",
   "metadata": {},
   "source": [
    "### User Input"
   ]
  },
  {
   "cell_type": "code",
   "execution_count": 25,
   "metadata": {},
   "outputs": [
    {
     "name": "stdout",
     "output_type": "stream",
     "text": [
      "Who are you? Jupyter Notebook\n",
      "Hello Jupyter Notebook\n",
      "Any questions: What is this notebook about\n",
      "Answer not found\n"
     ]
    }
   ],
   "source": [
    "name = input('Who are you? ')\n",
    "print('Hello', name) \n",
    "name = input('Any questions: ')\n",
    "print('Answer not found')"
   ]
  },
  {
   "cell_type": "markdown",
   "metadata": {},
   "source": [
    "- <b>Practice program : European and US elevator floor  "
   ]
  },
  {
   "cell_type": "code",
   "execution_count": 11,
   "metadata": {},
   "outputs": [
    {
     "name": "stdout",
     "output_type": "stream",
     "text": [
      "Which floor are you in?(European elevator floor): 1\n",
      "American floor equivalent: 2\n"
     ]
    }
   ],
   "source": [
    "efp = input('Which floor are you in?(European elevator floor): ') \n",
    "ufp = int(efp)+1 #Eventhough a number is typed, the 'input takes it as a string therefore it has to be converted' \n",
    "print('American floor equivalent:', ufp)"
   ]
  },
  {
   "cell_type": "markdown",
   "metadata": {},
   "source": [
    "- <b>Write a program which prompts the user for a Celsius temperature, convert the temperature to Fahrenheit, and print out the converted temperature."
   ]
  },
  {
   "cell_type": "code",
   "execution_count": 32,
   "metadata": {},
   "outputs": [
    {
     "name": "stdout",
     "output_type": "stream",
     "text": [
      "Enter Temperature in Celsius:-7\n",
      "Farenfeit Temperature : 19.4\n"
     ]
    }
   ],
   "source": [
    "celtemp = input('Enter Temperature in Celsius:')\n",
    "fartemp = (int(celtemp) * 9/5) + 32\n",
    "print('Farenfeit Temperature :' , fartemp)"
   ]
  },
  {
   "cell_type": "markdown",
   "metadata": {},
   "source": [
    "### Try - Except "
   ]
  },
  {
   "cell_type": "markdown",
   "metadata": {},
   "source": [
    "* <b>Write your pay program using try and except so that your program handles non-numeric input gracefully by printing a message and exiting the program. \n",
    "    "
   ]
  },
  {
   "cell_type": "code",
   "execution_count": 14,
   "metadata": {},
   "outputs": [
    {
     "name": "stdout",
     "output_type": "stream",
     "text": [
      "Weekly Pay!\n",
      "Enter hours:12\n",
      "Enter rate per hour:40\n",
      "Your pay: $ 480\n"
     ]
    }
   ],
   "source": [
    "print('Weekly Pay!')\n",
    "hrs = input('Enter hours:') \n",
    "try:\n",
    "    hr = int(hrs) #does not accept non numeric input; https://docs.python.org/3.4/library/functions.html?highlight=int#int\n",
    "    rateperhr = input('Enter rate per hour:')\n",
    "    rate = int(rateperhr)\n",
    "    pay = hr * rate\n",
    "    print('Your pay: $',pay)\n",
    "except:    \n",
    "    print('Enter numeric (integer) input!')\n"
   ]
  },
  {
   "cell_type": "markdown",
   "metadata": {},
   "source": [
    "### Functions"
   ]
  },
  {
   "cell_type": "markdown",
   "metadata": {},
   "source": [
    "#### Built in functions"
   ]
  },
  {
   "cell_type": "code",
   "execution_count": 7,
   "metadata": {},
   "outputs": [
    {
     "name": "stdout",
     "output_type": "stream",
     "text": [
      "max: w\n",
      "min:   .\n"
     ]
    }
   ],
   "source": [
    "big = max('hello world')\n",
    "small = min('hello world') #space is considered as min\n",
    "print('max:',big)\n",
    "print('min:',small,'.')"
   ]
  },
  {
   "cell_type": "markdown",
   "metadata": {},
   "source": [
    "- <b>Program to compute gross pay. Use the built-in Python 'round' function to properly round the resulting pay to two decimal places."
   ]
  },
  {
   "cell_type": "code",
   "execution_count": 22,
   "metadata": {},
   "outputs": [
    {
     "name": "stdout",
     "output_type": "stream",
     "text": [
      "Gross Pay!\n",
      "\n",
      "Enter hours:15.66\n",
      "Enter rate per hour:10.542\n",
      "Your pay: $ 165.08772\n",
      "Your pay after rounding:$ 165.09\n"
     ]
    }
   ],
   "source": [
    "print('Gross Pay!\\n')\n",
    "hrs = input('Enter hours:')\n",
    "hr = float(hrs) \n",
    "rateperhr = input('Enter rate per hour:')\n",
    "rate = float(rateperhr)\n",
    "pay = hr * rate\n",
    "print('Your pay: $',(pay))\n",
    "print('Your pay after rounding:$',round (pay,2))"
   ]
  },
  {
   "cell_type": "markdown",
   "metadata": {},
   "source": [
    "#### Building own functions"
   ]
  },
  {
   "cell_type": "markdown",
   "metadata": {},
   "source": [
    "- <b>Rewrite the grade program using a function called 'computegrade' that takes a score as its parameter and returns a grade as a string."
   ]
  },
  {
   "cell_type": "code",
   "execution_count": 59,
   "metadata": {},
   "outputs": [
    {
     "name": "stdout",
     "output_type": "stream",
     "text": [
      "Score:0.95\n",
      "A\n"
     ]
    }
   ],
   "source": [
    "def computegrade(score):\n",
    "    if (score >= 0.9 and score < 1.0):\n",
    "        print('A')\n",
    "    elif (score >= 0.8 and score < 0.9 ):\n",
    "        print('B')\n",
    "    elif (score >= 0.7 and score < 0.8):\n",
    "        print('C')\n",
    "    elif (score >= 0.6 and score < 0.7):\n",
    "        print('D')\n",
    "    elif (score < 0.6):\n",
    "        print('F')\n",
    "    else: \n",
    "        print('Enter correct score')\n",
    "    \n",
    "\n",
    "a = float(input('Score:'))\n",
    "computegrade(a)\n"
   ]
  },
  {
   "cell_type": "markdown",
   "metadata": {},
   "source": [
    "- <b>Rewrite your pay computation by creating a function called 'computepay' which takes two parameters(hours and rate). Give the employee 1.5times the hourly rate for hours worked above 40 hours"
   ]
  },
  {
   "cell_type": "code",
   "execution_count": 22,
   "metadata": {},
   "outputs": [
    {
     "name": "stdout",
     "output_type": "stream",
     "text": [
      "Hours worked:45\n",
      "Rate/hr:10\n",
      "Gross Pay: 475.0\n"
     ]
    }
   ],
   "source": [
    "def computepay(hours,rate):\n",
    "    if(hours > 40):\n",
    "        extra_hrs = hours - 40\n",
    "        extra_pay = extra_hrs * rate * 0.5 #pay for extra hours ; 0.5 because (1.5-1.0 = 0.5 times extra)\n",
    "        return hours*rate + extra_pay\n",
    "    else:\n",
    "        return hours*rate #usual pay\n",
    "    \n",
    "hr = float(input('Hours worked:'))\n",
    "rate_per_hr = float(input('Rate/hr:'))\n",
    "computepay(hr,rate_per_hr)\n",
    "print('Gross Pay:',computepay(hr,rate_per_hr))"
   ]
  },
  {
   "cell_type": "markdown",
   "metadata": {},
   "source": [
    "##### Note:"
   ]
  },
  {
   "cell_type": "code",
   "execution_count": 25,
   "metadata": {},
   "outputs": [
    {
     "name": "stdout",
     "output_type": "stream",
     "text": [
      "== Operator used for comparing the values\n",
      "'is' is used for type comparison. It is a logical operator\n"
     ]
    }
   ],
   "source": [
    "if 0 == 0.0: #values are compared\n",
    "    print('== Operator used for comparing the values')\n",
    "\n",
    "    #is -> similar to == but stronger \n",
    "    \n",
    "if 0 is not 0.0: #compares type (is and is not)\n",
    "    print(\"'is' is used for type comparison. It is a logical operator\")\n",
    "    "
   ]
  },
  {
   "cell_type": "markdown",
   "metadata": {},
   "source": [
    "### Iteration"
   ]
  },
  {
   "cell_type": "markdown",
   "metadata": {},
   "source": [
    "- <b>Write a program which repeatedly reads numbers until the user enters “done”. Once “done” is entered, print out the total, count,and average of the numbers. If the user enters anything other than a number, detect their mistake using try and except and print an error message and skip to the next number."
   ]
  },
  {
   "cell_type": "code",
   "execution_count": 78,
   "metadata": {},
   "outputs": [
    {
     "name": "stdout",
     "output_type": "stream",
     "text": [
      "Enter number:3\n",
      "Enter number:5\n",
      "Enter number:w\n",
      "ERROR! Enter a valid number\n",
      "Enter number:done\n",
      "Total: 8 Count: 2 Average: 4.0\n"
     ]
    }
   ],
   "source": [
    "total = 0;\n",
    "count = 0;\n",
    "while True:\n",
    "    num = input('Enter number:')\n",
    "    if(num == 'done'):\n",
    "        average = total / count\n",
    "        print('Total:',total,'Count:',count, 'Average:', average)\n",
    "        break\n",
    "        \n",
    "    else:\n",
    "        try:\n",
    "            total = total + int(num)\n",
    "            count = count + 1 \n",
    "            \n",
    "        except:\n",
    "            print('ERROR! Enter a valid number!')       \n"
   ]
  },
  {
   "cell_type": "markdown",
   "metadata": {},
   "source": [
    "- <b>Write another program that prompts for a list of numbers as above and at the end prints out both the maximum and minimum of the numbers."
   ]
  },
  {
   "cell_type": "code",
   "execution_count": 86,
   "metadata": {},
   "outputs": [
    {
     "name": "stdout",
     "output_type": "stream",
     "text": [
      "Enter number:3\n",
      "Enter number:2\n",
      "Enter number:100\n",
      "Enter number:-1\n",
      "Enter number:done\n",
      "Max: 100 Minimum: -1\n"
     ]
    }
   ],
   "source": [
    "max_num = None;\n",
    "min_num = None;\n",
    "num = input('Enter number:')\n",
    "max_num = int(num)\n",
    "min_num = int(num)\n",
    "while True:\n",
    "    num = input('Enter number:')\n",
    "    if(num == 'done'):\n",
    "        print('Max:',max_num,'Minimum:',min_num)\n",
    "        break\n",
    "    else:\n",
    "        number = int(num)\n",
    "        if(number > max_num):\n",
    "            max_num = int(num)\n",
    "        if(number < min_num):\n",
    "            min_num = int(num)    "
   ]
  },
  {
   "cell_type": "markdown",
   "metadata": {},
   "source": [
    "### Strings"
   ]
  },
  {
   "cell_type": "markdown",
   "metadata": {},
   "source": [
    "Notes: \n",
    "- Slicing a string: s[0:4] is read as s sub( [ ] ) 0 through( - ) 4. Goes from 0 to 3(upto 4 but not including)  \n",
    "- s[:2] includes 0 to 1\n",
    "- s[4:] includes 4th all the letters after after 4th position\n",
    "- print(str1,str2) automatically adds a space between string 1 and 2\n",
    "- [:, -1] include everything except 1st column\n",
    "- string = '8754321'\n",
    "     string\n",
    "        '8754321'\n",
    "\n",
    "    right 2 characters\n",
    "        string[-2:] (include only last 2)\n",
    "            '21'\n",
    "\n",
    "    left 2 characters\n",
    "        string[:2]  (0th and 1st position elements) \n",
    "            '87'\n"
   ]
  },
  {
   "cell_type": "markdown",
   "metadata": {},
   "source": [
    "- <b>Take the following Python code that stores a string:str = 'X-DSPAM-Confidence:0.8475' Use find and string slicing to extract the portion of the string after the colon character and then use the float function to convert the extracted string into a floating point number."
   ]
  },
  {
   "cell_type": "code",
   "execution_count": 1,
   "metadata": {},
   "outputs": [
    {
     "name": "stdout",
     "output_type": "stream",
     "text": [
      "0.8475\n"
     ]
    },
    {
     "data": {
      "text/plain": [
       "float"
      ]
     },
     "execution_count": 1,
     "metadata": {},
     "output_type": "execute_result"
    }
   ],
   "source": [
    "string = 'X-DSPAM-Confidence:0.8475'\n",
    "fpos = string.find(':')\n",
    "#print(fpos)\n",
    "extracted = string[fpos+1:] #extracts the string after ':'\n",
    "converted = float(extracted)\n",
    "print(converted)\n",
    "type(converted)"
   ]
  },
  {
   "cell_type": "code",
   "execution_count": null,
   "metadata": {},
   "outputs": [],
   "source": []
  }
 ],
 "metadata": {
  "kernelspec": {
   "display_name": "Python 3",
   "language": "python",
   "name": "python3"
  },
  "language_info": {
   "codemirror_mode": {
    "name": "ipython",
    "version": 3
   },
   "file_extension": ".py",
   "mimetype": "text/x-python",
   "name": "python",
   "nbconvert_exporter": "python",
   "pygments_lexer": "ipython3",
   "version": "3.6.9"
  }
 },
 "nbformat": 4,
 "nbformat_minor": 2
}
